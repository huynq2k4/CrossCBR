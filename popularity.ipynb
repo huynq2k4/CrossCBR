{
 "cells": [
  {
   "cell_type": "code",
   "execution_count": 16,
   "metadata": {},
   "outputs": [
    {
     "name": "stdout",
     "output_type": "stream",
     "text": [
      "clo\n",
      "clothing\n",
      "elec\n",
      "electronic\n",
      "foo\n",
      "food\n",
      "iFashion\n",
      "NetEase\n",
      "steam\n",
      "Youshu\n"
     ]
    }
   ],
   "source": [
    "import json\n",
    "\n",
    "for dataset in ['clo', 'clothing', 'elec', 'electronic', 'foo', 'food', 'iFashion', 'NetEase', 'steam', 'Youshu']:\n",
    "    print(dataset)\n",
    "    bundle_freq = {}\n",
    "    item_freq = {}\n",
    "    bundle_count = {}\n",
    "\n",
    "    with open(f'datasets/{dataset}/bundle_item.txt', 'r') as f:\n",
    "        lines = f.readlines()\n",
    "        for line in lines:\n",
    "            bundle = line.strip().split('\\t')[0]\n",
    "            item = line.strip().split('\\t')[1]\n",
    "            bundle_freq[bundle] = 0\n",
    "            bundle_count[bundle] = 1 if bundle not in bundle_count else bundle_count[bundle] + 1\n",
    "            item_freq[item] = 0\n",
    "\n",
    "    with open(f'datasets/{dataset}/user_item.txt', 'r') as f:\n",
    "        lines = f.readlines()\n",
    "        for line in lines:\n",
    "            item = line.strip().split('\\t')[1]\n",
    "            item_freq[item] = 1 if item not in item_freq else item_freq[item] + 1\n",
    "\n",
    "    sum_item_freq = sum(item_freq.values())\n",
    "    item_freq = {item: item_freq[item] / sum_item_freq for item in item_freq}\n",
    "\n",
    "    with open(f'datasets/{dataset}/bundle_item.txt', 'r') as f:\n",
    "        lines = f.readlines()\n",
    "        for line in lines:\n",
    "            bundle = line.strip().split('\\t')[0]\n",
    "            item = line.strip().split('\\t')[1]\n",
    "            bundle_freq[bundle] += item_freq[item]\n",
    "\n",
    "    bundle_freq = {bundle: bundle_freq[bundle] / bundle_count[bundle] for bundle in bundle_freq}\n",
    "\n",
    "    with open(f'datasets/{dataset}/user_bundle_train.txt', 'r') as f:\n",
    "        lines = f.readlines()\n",
    "        for line in lines:\n",
    "            bundle = line.strip().split('\\t')[1]\n",
    "            bundle_freq[bundle] += 1\n",
    "\n",
    "    bundle_freq = {k: v for k, v in sorted(bundle_freq.items(), key=lambda item: item[1], reverse=True)}\n",
    "\n",
    "    ratio = 0.2\n",
    "    num_bundle = len(bundle_freq)\n",
    "\n",
    "    bundles = [eval(b) for b in list(bundle_freq.keys())]\n",
    "    pop = bundles[:int(num_bundle * ratio)]\n",
    "    unpop = bundles[int(num_bundle * ratio):]\n",
    "\n",
    "    popularity_dict = {'pop': pop, 'unpop': unpop}\n",
    "    with open(f'datasets/{dataset}/bundle_popularity.json', 'w') as f:\n",
    "        json.dump(popularity_dict, f)"
   ]
  }
 ],
 "metadata": {
  "kernelspec": {
   "display_name": "Python 3",
   "language": "python",
   "name": "python3"
  },
  "language_info": {
   "codemirror_mode": {
    "name": "ipython",
    "version": 3
   },
   "file_extension": ".py",
   "mimetype": "text/x-python",
   "name": "python",
   "nbconvert_exporter": "python",
   "pygments_lexer": "ipython3",
   "version": "3.11.5"
  }
 },
 "nbformat": 4,
 "nbformat_minor": 2
}
